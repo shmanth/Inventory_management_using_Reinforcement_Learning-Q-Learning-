{
  "nbformat": 4,
  "nbformat_minor": 0,
  "metadata": {
    "colab": {
      "provenance": [],
      "authorship_tag": "ABX9TyOwssPlxBo56GY0ChPujITr",
      "include_colab_link": true
    },
    "kernelspec": {
      "name": "python3",
      "display_name": "Python 3"
    },
    "language_info": {
      "name": "python"
    }
  },
  "cells": [
    {
      "cell_type": "markdown",
      "metadata": {
        "id": "view-in-github",
        "colab_type": "text"
      },
      "source": [
        "<a href=\"https://colab.research.google.com/github/shmanth/Inventory_management_using_Reinforcement_Learning-Q-Learning-/blob/master/IM_env.ipynb\" target=\"_parent\"><img src=\"https://colab.research.google.com/assets/colab-badge.svg\" alt=\"Open In Colab\"/></a>"
      ]
    },
    {
      "cell_type": "code",
      "execution_count": null,
      "metadata": {
        "id": "93zsxP_CJakS"
      },
      "outputs": [],
      "source": [
        "#importing necessary libraries\n",
        "from gym import spaces\n",
        "import numpy as np"
      ]
    },
    {
      "cell_type": "code",
      "source": [
        "m=50 # maximum capacity of the warehouse\n",
        "K=3 #constant cost of order(K in document). it can be cost of petrol\n",
        "c=4 #variable part of order cost(c(a_t) in the document)\n",
        "h=0.0025 # holding cost. can be things like rat poison to get rid of rats etc\n",
        "p=4.5 # selling price such that profit is 12.5%\n",
        "R=K # Returning cost is same as constant cost as price of petrol is same for to ans fro journies\n",
        "lambda_mon=16\n",
        "lambda_tue=31\n",
        "lambda_wed=15\n",
        "lambda_thu=32\n",
        "lambda_fri=30\n",
        "lambda_sat=8\n",
        "lambda_sun=42\n",
        "\n",
        "day_mapping= {0:\"mon\",1:\"tue\",2:\"wed\",3:\"thu\",4:\"fri\",5:\"sat\",6:\"sun\"}"
      ],
      "metadata": {
        "colab": {
          "base_uri": "https://localhost:8080/"
        },
        "id": "ewS1AKuUND7E",
        "outputId": "65463105-b98c-4d6b-b82e-7c03a1992f68"
      },
      "execution_count": null,
      "outputs": [
        {
          "output_type": "stream",
          "name": "stderr",
          "text": [
            "/usr/local/lib/python3.10/dist-packages/ipykernel/ipkernel.py:283: DeprecationWarning: `should_run_async` will not call `transform_cell` automatically in the future. Please pass the result to `transformed_cell` argument and any exception that happen during thetransform in `preprocessing_exc_tuple` in IPython 7.17 and above.\n",
            "  and should_run_async(code)\n"
          ]
        }
      ]
    },
    {
      "cell_type": "code",
      "source": [
        "class InventoryEnv():\n",
        "  def __init__ self:\n",
        "    self.action_space= spaces.Discrete(m+1)\n",
        "    self.inventory= np.random.choice(np.arange(0,m+1))\n",
        "    self.day= np.random.choice(0.1.2.3.4.5.6)\n",
        "    self.state= (self.inventory,self.day)\n",
        "\n",
        "    # Starting the first round\n",
        "    self.reset()\n",
        "\n",
        "\n",
        "\n",
        "\n"
      ],
      "metadata": {
        "id": "5hFborX1ND9o"
      },
      "execution_count": null,
      "outputs": []
    },
    {
      "cell_type": "code",
      "source": [],
      "metadata": {
        "id": "RJQfMRC-ND_x"
      },
      "execution_count": null,
      "outputs": []
    },
    {
      "cell_type": "code",
      "source": [],
      "metadata": {
        "id": "LVR6CdRyNECQ"
      },
      "execution_count": null,
      "outputs": []
    },
    {
      "cell_type": "code",
      "source": [],
      "metadata": {
        "id": "ALDhoqIaNEEh"
      },
      "execution_count": null,
      "outputs": []
    },
    {
      "cell_type": "code",
      "source": [],
      "metadata": {
        "id": "tbFtuTJHNEIQ"
      },
      "execution_count": null,
      "outputs": []
    },
    {
      "cell_type": "code",
      "source": [],
      "metadata": {
        "id": "SfjbZESUNEY1"
      },
      "execution_count": null,
      "outputs": []
    },
    {
      "cell_type": "code",
      "source": [],
      "metadata": {
        "id": "G2Cj3rpuNEbF"
      },
      "execution_count": null,
      "outputs": []
    },
    {
      "cell_type": "code",
      "source": [],
      "metadata": {
        "id": "BwkJ3QSeNEeS"
      },
      "execution_count": null,
      "outputs": []
    }
  ]
}