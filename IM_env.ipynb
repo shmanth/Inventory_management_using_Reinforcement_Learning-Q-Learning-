{
  "nbformat": 4,
  "nbformat_minor": 0,
  "metadata": {
    "colab": {
      "provenance": [],
      "authorship_tag": "ABX9TyOnxsThLg1bx1aBOQtqFrnx",
      "include_colab_link": true
    },
    "kernelspec": {
      "name": "python3",
      "display_name": "Python 3"
    },
    "language_info": {
      "name": "python"
    }
  },
  "cells": [
    {
      "cell_type": "markdown",
      "metadata": {
        "id": "view-in-github",
        "colab_type": "text"
      },
      "source": [
        "<a href=\"https://colab.research.google.com/github/shmanth/Inventory_management_using_Reinforcement_Learning-Q-Learning-/blob/master/IM_env.ipynb\" target=\"_parent\"><img src=\"https://colab.research.google.com/assets/colab-badge.svg\" alt=\"Open In Colab\"/></a>"
      ]
    },
    {
      "cell_type": "code",
      "execution_count": null,
      "metadata": {
        "id": "93zsxP_CJakS"
      },
      "outputs": [],
      "source": [
        "#importing necessary libraries\n",
        "from gym import spaces\n",
        "import numpy as np"
      ]
    },
    {
      "cell_type": "code",
      "source": [
        "m=50 # maximum capacity of the warehouse\n",
        "K=3 #constant cost of order(K in document). it can be cost of petrol\n",
        "c=4 #variable part of order cost(c(a_t) in the document)\n",
        "h=0.0025 # holding cost. can be things like rat poison to get rid of rats etc\n",
        "p=4.5 # selling price such that profit is 12.5%\n",
        "R=K # Returning cost is same as constant cost as price of petrol is same for to ans fro journies\n",
        "lamba_mon=16\n",
        "lamba_tue=31\n",
        "lamda_wed=15\n",
        "lamda_thu=32\n",
        "lamda_fri=30\n",
        "lamda_sat=8\n",
        "lamda_sun=42\n",
        "\n",
        "day_mapping= {0:\"mon\",1:\"tue\",2:\"wed\",3:\"thu\",4:\"fri\",5:\"sat\",6:\"sun\"}"
      ],
      "metadata": {
        "id": "ewS1AKuUND7E"
      },
      "execution_count": null,
      "outputs": []
    },
    {
      "cell_type": "code",
      "source": [
        "class InventoryEnv():\n",
        "  def __init__ (self):\n",
        "    self.action_space= spaces.Discrete(m+1)\n",
        "    self.inventory= np.random.choice(np.arange(0,m+1))\n",
        "    self.day= np.random.choice(0,1,2,3,4,5,6)\n",
        "    self.state= (self.inventory,self.day)\n",
        "\n",
        "    # Starting the first round\n",
        "    self.reset()\n",
        "\n",
        "  def demand(self,day):\n",
        "    if day == 0:\n",
        "      return np.random.poisson(lamda_mon)\n",
        "    elif day == 1:\n",
        "      return np.random.poisson(lamda_tue)\n",
        "    elif day == 2:\n",
        "      return np.random.poisson(lamda_wed)\n",
        "    elif day == 3:\n",
        "      return np.random.poisson(lamda_thu)\n",
        "    elif day == 4:\n",
        "      return np.random.poisson(lamda_fri)\n",
        "    elif day == 5:\n",
        "      return np.random.poisson(lamda_sat)\n",
        "    elif day == 6:\n",
        "      return np.random.poisson(lamda_sun)\n",
        "\n",
        "  def transition(self, x_t_1, a_t_1, d_t):\n",
        "    if x_t_1[1] < 6:\n",
        "      next_day = x_t_1[1] + 1\n",
        "    else:\n",
        "      next_day = 0\n",
        "\n",
        "    stock_after_sales = max(x_t_1[0] - d_t, 0)\n",
        "    stocks_EOD = min(stock_after_sales + a_t_1, m)\n",
        "\n",
        "    return(stocks_EOD, next_day)\n",
        "\n",
        "  def reward(self, x_t_1, a_t_1, d_t):\n",
        "\n",
        "    # expected income\n",
        "    expected_income = p * min(x_t_1, d_t)\n",
        "\n",
        "    # cost of the order\n",
        "    fixed_order_cost = K * (a_t_1 > 0)\n",
        "    variable_order_cost = c\n",
        "    order_cost= fixed_order_cost + variable_order_cost * a_t_1\n",
        "\n",
        "    #Holding cost\n",
        "    holding_cost = h * x_t_1\n",
        "\n",
        "    # opportunity cost\n",
        "    actual_demand = d_t\n",
        "    demand_satisfied = x_t_1\n",
        "    profit = p - c\n",
        "\n",
        "    opportunity_cost = profit * (actual_demand - demand_satisfied) * (actual_demand > demand_satisfied)\n",
        "    return r\n",
        "\n",
        "  def initial_step(self, state, action):\n",
        "    assert self.action_space.contains(action)  #to check that action is a discrete value less than m\n",
        "    obs = state\n",
        "\n",
        "    if state[1] < 6:\n",
        "      demand = self.demand(state[1]+1)\n",
        "    else:\n",
        "      demand = self.demand(0)\n",
        "    obs2 = self.transition(obs, action, demand) # next state\n",
        "\n",
        "    return obs2\n",
        "\n",
        "  def step(self, x_t_1, a_t_1):\n",
        "    assert self.action_space.contains(ation)\n",
        "\n",
        "    obs = x_t_1\n",
        "\n",
        "    if x_t_1[1] < 6:\n",
        "      d_t = self.demand(x_t_1 + 1)\n",
        "    else:\n",
        "      d_t = self.demand(0)\n",
        "\n",
        "    obs2 = self.transition(obs, a_t_1, d_t) # next state\n",
        "\n",
        "    reward = self.reward(x_t_1[0], a_t_1, d_t)\n",
        "\n",
        "    return obs2, reward\n",
        "\n",
        "  def reset(self):\n",
        "    return self.state"
      ],
      "metadata": {
        "id": "5hFborX1ND9o"
      },
      "execution_count": 4,
      "outputs": []
    },
    {
      "cell_type": "code",
      "source": [],
      "metadata": {
        "id": "RJQfMRC-ND_x"
      },
      "execution_count": null,
      "outputs": []
    },
    {
      "cell_type": "code",
      "source": [],
      "metadata": {
        "id": "LVR6CdRyNECQ"
      },
      "execution_count": null,
      "outputs": []
    },
    {
      "cell_type": "code",
      "source": [],
      "metadata": {
        "id": "ALDhoqIaNEEh"
      },
      "execution_count": null,
      "outputs": []
    },
    {
      "cell_type": "code",
      "source": [],
      "metadata": {
        "id": "tbFtuTJHNEIQ"
      },
      "execution_count": null,
      "outputs": []
    },
    {
      "cell_type": "code",
      "source": [],
      "metadata": {
        "id": "SfjbZESUNEY1"
      },
      "execution_count": null,
      "outputs": []
    },
    {
      "cell_type": "code",
      "source": [],
      "metadata": {
        "id": "G2Cj3rpuNEbF"
      },
      "execution_count": null,
      "outputs": []
    },
    {
      "cell_type": "code",
      "source": [],
      "metadata": {
        "id": "BwkJ3QSeNEeS"
      },
      "execution_count": null,
      "outputs": []
    }
  ]
}